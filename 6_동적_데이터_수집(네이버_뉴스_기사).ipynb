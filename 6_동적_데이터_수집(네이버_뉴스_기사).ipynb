{
  "cells": [
    {
      "cell_type": "markdown",
      "metadata": {
        "id": "view-in-github",
        "colab_type": "text"
      },
      "source": [
        "<a href=\"https://colab.research.google.com/github/dantae74/web-crawling/blob/main/6_%EB%8F%99%EC%A0%81_%EB%8D%B0%EC%9D%B4%ED%84%B0_%EC%88%98%EC%A7%91(%EB%84%A4%EC%9D%B4%EB%B2%84_%EB%89%B4%EC%8A%A4_%EA%B8%B0%EC%82%AC).ipynb\" target=\"_parent\"><img src=\"https://colab.research.google.com/assets/colab-badge.svg\" alt=\"Open In Colab\"/></a>"
      ]
    },
    {
      "cell_type": "markdown",
      "id": "7a80b617",
      "metadata": {
        "id": "7a80b617"
      },
      "source": [
        "# 동적 데이터 수집\n",
        "- 네이버 기사 여러 페이지 수집하기"
      ]
    },
    {
      "cell_type": "markdown",
      "id": "778538d6",
      "metadata": {
        "id": "778538d6"
      },
      "source": [
        "---"
      ]
    },
    {
      "cell_type": "code",
      "source": [
        "# 이 부분은 처음 한번만 실행하면 됌.\n",
        "# 코드 수정 - \"The reason is that the last Ubuntu update update supports chromium driver just via snap.\"\n",
        "# 최근 우분투 업데이트에서 크롬 드라이버 설치를 snap을 이용해서만 하도록 바뀜\n",
        "# 고로 snap 없이 설치하는 아래 우회 코드로 변경\n",
        "# 출처 : https://colab.research.google.com/drive/1cbEvuZOhkouYLda3RqiwtbM-o9hxGLyC\n",
        "# 출처2 : https://stackoverflow.com/questions/75155063/selenium-use-chrome-on-colab-got-unexpectedly-exited\n",
        "\n",
        "%%shell\n",
        "# Ubuntu no longer distributes chromium-browser outside of snap\n",
        "#\n",
        "# Proposed solution: https://askubuntu.com/questions/1204571/how-to-install-chromium-without-snap\n",
        "\n",
        "# Add debian buster\n",
        "cat > /etc/apt/sources.list.d/debian.list <<'EOF'\n",
        "deb [arch=amd64 signed-by=/usr/share/keyrings/debian-buster.gpg] http://deb.debian.org/debian buster main\n",
        "deb [arch=amd64 signed-by=/usr/share/keyrings/debian-buster-updates.gpg] http://deb.debian.org/debian buster-updates main\n",
        "deb [arch=amd64 signed-by=/usr/share/keyrings/debian-security-buster.gpg] http://deb.debian.org/debian-security buster/updates main\n",
        "EOF\n",
        "\n",
        "# Add keys\n",
        "apt-key adv --keyserver keyserver.ubuntu.com --recv-keys DCC9EFBF77E11517\n",
        "apt-key adv --keyserver keyserver.ubuntu.com --recv-keys 648ACFD622F3D138\n",
        "apt-key adv --keyserver keyserver.ubuntu.com --recv-keys 112695A0E562B32A\n",
        "\n",
        "apt-key export 77E11517 | gpg --dearmour -o /usr/share/keyrings/debian-buster.gpg\n",
        "apt-key export 22F3D138 | gpg --dearmour -o /usr/share/keyrings/debian-buster-updates.gpg\n",
        "apt-key export E562B32A | gpg --dearmour -o /usr/share/keyrings/debian-security-buster.gpg\n",
        "\n",
        "# Prefer debian repo for chromium* packages only\n",
        "# Note the double-blank lines between entries\n",
        "cat > /etc/apt/preferences.d/chromium.pref << 'EOF'\n",
        "Package: *\n",
        "Pin: release a=eoan\n",
        "Pin-Priority: 500\n",
        "\n",
        "\n",
        "Package: *\n",
        "Pin: origin \"deb.debian.org\"\n",
        "Pin-Priority: 300\n",
        "\n",
        "\n",
        "Package: chromium*\n",
        "Pin: origin \"deb.debian.org\"\n",
        "Pin-Priority: 700\n",
        "EOF\n",
        "\n",
        "# Install chromium and chromium-driver\n",
        "apt-get update\n",
        "apt-get install chromium chromium-driver\n",
        "\n",
        "# Install selenium\n",
        "pip install selenium"
      ],
      "metadata": {
        "id": "f8El4PtNjXEt"
      },
      "id": "f8El4PtNjXEt",
      "execution_count": null,
      "outputs": []
    },
    {
      "cell_type": "code",
      "source": [
        "# -*- coding: UTF-8 -*-\n",
        "import time\n",
        "from selenium import webdriver\n",
        "from selenium.webdriver.common.by import By"
      ],
      "metadata": {
        "id": "5Z1jKAAA-erf"
      },
      "id": "5Z1jKAAA-erf",
      "execution_count": null,
      "outputs": []
    },
    {
      "cell_type": "code",
      "source": [
        "options = webdriver.ChromeOptions()\n",
        "options.add_argument('--headless')        # Head-less 설정\n",
        "options.add_argument('--no-sandbox')\n",
        "options.add_argument('--disable-dev-shm-usage')\n",
        "driver = webdriver.Chrome(options=options)"
      ],
      "metadata": {
        "id": "jgmBQ1PP-k4E"
      },
      "id": "jgmBQ1PP-k4E",
      "execution_count": null,
      "outputs": []
    },
    {
      "cell_type": "code",
      "source": [],
      "metadata": {
        "id": "cMSz7-zxjW5Z"
      },
      "id": "cMSz7-zxjW5Z",
      "execution_count": null,
      "outputs": []
    },
    {
      "cell_type": "markdown",
      "id": "2eee17a6",
      "metadata": {
        "id": "2eee17a6"
      },
      "source": [
        "## 0. 라이브러리 import"
      ]
    },
    {
      "cell_type": "code",
      "execution_count": null,
      "id": "24313043",
      "metadata": {
        "id": "24313043"
      },
      "outputs": [],
      "source": [
        "from selenium import webdriver\n",
        "from selenium.webdriver.common.by import By\n",
        "from selenium.webdriver.support.ui import WebDriverWait\n",
        "from selenium.webdriver.support import expected_conditions as EC\n",
        "from selenium.webdriver.common.keys import Keys\n",
        "from bs4 import BeautifulSoup\n",
        "\n",
        "import pandas as pd"
      ]
    },
    {
      "cell_type": "markdown",
      "id": "f6bc95d9",
      "metadata": {
        "id": "f6bc95d9"
      },
      "source": [
        "## 1. 네이버 뉴스 검색 결과로 바로 이동하기"
      ]
    },
    {
      "cell_type": "markdown",
      "id": "126b7713",
      "metadata": {
        "id": "126b7713"
      },
      "source": [
        "- www.naver.com 으로 이동하여 검색하는 방법도 있지만\n",
        "- 바로 이동할 수 있는 방법이 있다면 시간과 자원을 절약할 수 있음"
      ]
    },
    {
      "cell_type": "code",
      "execution_count": null,
      "id": "f5fb5f81",
      "metadata": {
        "scrolled": false,
        "id": "f5fb5f81"
      },
      "outputs": [],
      "source": [
        "# 페이지 접근\n",
        "driver.get('https://search.naver.com/search.naver?where=news&sm=tab_jum&query=KT WIZ') # 크롤링 예제 사이트"
      ]
    },
    {
      "cell_type": "markdown",
      "id": "2593b9dd",
      "metadata": {
        "id": "2593b9dd"
      },
      "source": [
        "## 2. 페이지 탐색 및 크롤링 준비"
      ]
    },
    {
      "cell_type": "code",
      "execution_count": null,
      "id": "349d56e4",
      "metadata": {
        "id": "349d56e4"
      },
      "outputs": [],
      "source": [
        "# 뉴스 기사가 모아놓은 요소 찾기\n",
        "articles_box = driver.find_element(By.CSS_SELECTOR,'#main_pack > section > div > div.group_news > ul')\n",
        "# 뉴스 기사 리스트 찾기\n",
        "article_list = articles_box.find_elements(By.CSS_SELECTOR,'li.bx')\n",
        "print(len(article_list))\n",
        "#sp_nws1, #sp_nws1 > div.news_wrap.api_ani_send"
      ]
    },
    {
      "cell_type": "code",
      "execution_count": null,
      "id": "cdaabc84",
      "metadata": {
        "id": "cdaabc84"
      },
      "outputs": [],
      "source": [
        "for article in article_list:\n",
        "    # 뉴스 제목 가져오기\n",
        "    title = article.find_element(By.CSS_SELECTOR,'a.news_tit').text\n",
        "    print(\"뉴스 제목 : \" + title)\n",
        "\n",
        "    # 뉴스 설명 가져오기\n",
        "    dsc = article.find_element(By.CSS_SELECTOR, \"div.dsc_wrap > a\").text\n",
        "    print(\"뉴스 내용 : \" + dsc)\n",
        "\n",
        "    # 신문사 가져오기\n",
        "    press = article.find_element(By.CSS_SELECTOR, \"a.press\").text\n",
        "    print(press)\n"
      ]
    },
    {
      "cell_type": "code",
      "execution_count": null,
      "id": "6fe42acd",
      "metadata": {
        "id": "6fe42acd"
      },
      "outputs": [],
      "source": [
        "# 페이지 번호 요소 찾기\n",
        "page_wrap = driver.find_element(By.CSS_SELECTOR, 'div.sc_page')\n",
        "\n",
        "# 찾은 요소에서 html 코드 가져오기\n",
        "page_wrap_html = page_wrap.get_attribute('innerHTML')\n",
        "page_soup = BeautifulSoup(page_wrap_html, 'html.parser')\n",
        "print(page_soup.prettify())"
      ]
    },
    {
      "cell_type": "markdown",
      "id": "d05d9dcb",
      "metadata": {
        "id": "d05d9dcb"
      },
      "source": [
        "- disabled 속성으로 이전페이지가 있는지, 이후페이지가 있는지 알 수 있다.\n",
        "- pressed 속성으로 현재 페이지가 몇인지도 알 수 있다."
      ]
    },
    {
      "cell_type": "code",
      "execution_count": null,
      "id": "6c06a8b8",
      "metadata": {
        "id": "6c06a8b8"
      },
      "outputs": [],
      "source": [
        "# 현재 페이지 찾기\n",
        "# aria-pressed=\"true\" 인 요소 찾기\n",
        "now_page = page_wrap.find_element(By.CSS_SELECTOR, 'a[aria-pressed=\"true\"]')\n",
        "print(now_page.text)\n",
        "\n",
        "# 다음 페이지 이동 불가능 여부 가져오기\n",
        "next_page = page_wrap.find_element(By.CSS_SELECTOR, 'a.btn_next')\n",
        "aria_disabled = next_page.get_attribute('aria-disabled')\n",
        "print(aria_disabled)"
      ]
    },
    {
      "cell_type": "markdown",
      "id": "a3d19eee",
      "metadata": {
        "id": "a3d19eee"
      },
      "source": [
        "- 현재 페이지의 뉴스 제목, 내용, 신문사를 출력하는 함수 작성"
      ]
    },
    {
      "cell_type": "code",
      "execution_count": null,
      "id": "d2e60b2f",
      "metadata": {
        "id": "d2e60b2f"
      },
      "outputs": [],
      "source": [
        "def get_news_info(driver):\n",
        "    result = []\n",
        "    # 뉴스 기사들을 모아 놓은 요소가 로딩될때 까지 대기\n",
        "    articles_box = WebDriverWait(driver, 10).until(EC.presence_of_element_located((By.CSS_SELECTOR, '#main_pack > section > div > div.group_news > ul')))\n",
        "    # 뉴스 기사 리스트 찾기\n",
        "    article_list = articles_box.find_elements(By.CSS_SELECTOR,'li.bx')\n",
        "    for article in article_list:\n",
        "        news_info = {}\n",
        "        # 뉴스 제목 가져오기\n",
        "        title = article.find_element(By.CSS_SELECTOR,'a.news_tit').text\n",
        "        news_info['제목'] = title\n",
        "        # 뉴스 내용 가져오기\n",
        "        dsc = article.find_element(By.CSS_SELECTOR, \"div.dsc_wrap > a\").text\n",
        "        news_info['내용'] = dsc\n",
        "        # 신문사 가져오기\n",
        "        press = article.find_element(By.CSS_SELECTOR, \"a.press\").text\n",
        "        news_info['언론사'] = press\n",
        "\n",
        "        result.append(news_info)\n",
        "    return result\n"
      ]
    },
    {
      "cell_type": "markdown",
      "id": "098cc481",
      "metadata": {
        "id": "098cc481"
      },
      "source": [
        "- 여러 페이지 크롤링을 위해 페이지 이동할때마다 현재 페이지 정보와, 다음 페이지 이동 가능 여부를 판단하는 함수 작성"
      ]
    },
    {
      "cell_type": "code",
      "execution_count": null,
      "id": "96fe266e",
      "metadata": {
        "id": "96fe266e"
      },
      "outputs": [],
      "source": [
        "def get_page_info(driver):\n",
        "    result = {}\n",
        "    # 페이지 이동마다 사용하기 때문에 Wait 사용\n",
        "    page_wrap = WebDriverWait(driver, 10).until(EC.presence_of_element_located((By.CSS_SELECTOR , 'div.sc_page')))\n",
        "    # 현재 페이지 찾기\n",
        "    now_page = page_wrap.find_element(By.CSS_SELECTOR, 'a[aria-pressed=\"true\"]').text\n",
        "    result['현재 페이지'] = now_page\n",
        "    # 다음 페이지 이동 불가능 여부 가져오기\n",
        "    next_page = page_wrap.find_element(By.CSS_SELECTOR, 'a.btn_next')\n",
        "    result['다음 페이지'] = next_page\n",
        "    aria_disabled = next_page.get_attribute('aria-disabled')\n",
        "    result['다음 페이지 이동 불가'] = aria_disabled\n",
        "\n",
        "\n",
        "    return result"
      ]
    },
    {
      "cell_type": "markdown",
      "id": "88b551c4",
      "metadata": {
        "id": "88b551c4"
      },
      "source": [
        "## 3. 크롤링"
      ]
    },
    {
      "cell_type": "code",
      "execution_count": null,
      "id": "814d4e1c",
      "metadata": {
        "id": "814d4e1c"
      },
      "outputs": [],
      "source": [
        "# 드라이버 로드\n",
        "# driver = webdriver.Chrome()\n",
        "driver = webdriver.Chrome(options=options)\n",
        "\n",
        "# 페이지 접근\n",
        "driver.get('https://search.naver.com/search.naver?where=news&sm=tab_jum&query=KT WIZ') # 크롤링 예제 사이트\n",
        "\n",
        "df = []\n",
        "\n",
        "# 최대 10페이지까지 크롤링\n",
        "for i in range(0,10):\n",
        "    news_info = get_news_info(driver)\n",
        "    page_info = get_page_info(driver)\n",
        "    print(page_info['현재 페이지'])\n",
        "    print(news_info)\n",
        "    for news in news_info:\n",
        "        df.append(news)\n",
        "    # 다음 페이지로 이동\n",
        "    if page_info['다음 페이지 이동 불가'] == 'true':\n",
        "        break\n",
        "    else:\n",
        "        page_info['다음 페이지'].click()\n",
        "\n",
        "driver.quit()"
      ]
    },
    {
      "cell_type": "code",
      "execution_count": null,
      "id": "91dddd50",
      "metadata": {
        "id": "91dddd50"
      },
      "outputs": [],
      "source": [
        "pd.DataFrame(df).head(30)"
      ]
    },
    {
      "cell_type": "code",
      "execution_count": null,
      "id": "5ff554aa",
      "metadata": {
        "id": "5ff554aa"
      },
      "outputs": [],
      "source": []
    }
  ],
  "metadata": {
    "kernelspec": {
      "display_name": "Python 3 (ipykernel)",
      "language": "python",
      "name": "python3"
    },
    "language_info": {
      "codemirror_mode": {
        "name": "ipython",
        "version": 3
      },
      "file_extension": ".py",
      "mimetype": "text/x-python",
      "name": "python",
      "nbconvert_exporter": "python",
      "pygments_lexer": "ipython3",
      "version": "3.10.9"
    },
    "colab": {
      "provenance": [],
      "include_colab_link": true
    }
  },
  "nbformat": 4,
  "nbformat_minor": 5
}