{
  "cells": [
    {
      "cell_type": "markdown",
      "metadata": {
        "id": "view-in-github",
        "colab_type": "text"
      },
      "source": [
        "<a href=\"https://colab.research.google.com/github/dantae74/web-crawling/blob/main/5_%EB%8F%99%EC%A0%81_%EB%8D%B0%EC%9D%B4%ED%84%B0_%EC%88%98%EC%A7%91.ipynb\" target=\"_parent\"><img src=\"https://colab.research.google.com/assets/colab-badge.svg\" alt=\"Open In Colab\"/></a>"
      ]
    },
    {
      "cell_type": "markdown",
      "id": "7a80b617",
      "metadata": {
        "id": "7a80b617"
      },
      "source": [
        "# 동적 데이터 수집"
      ]
    },
    {
      "cell_type": "markdown",
      "id": "778538d6",
      "metadata": {
        "id": "778538d6"
      },
      "source": [
        "---"
      ]
    },
    {
      "cell_type": "markdown",
      "id": "2eee17a6",
      "metadata": {
        "id": "2eee17a6"
      },
      "source": [
        "## 0. 라이브러리 import"
      ]
    },
    {
      "cell_type": "code",
      "source": [
        "%%shell\n",
        "\n",
        "# Add debian buster\n",
        "cat > /etc/apt/sources.list.d/debian.list <<'EOF'\n",
        "deb [arch=amd64 signed-by=/usr/share/keyrings/debian-buster.gpg] http://deb.debian.org/debian buster main\n",
        "deb [arch=amd64 signed-by=/usr/share/keyrings/debian-buster-updates.gpg] http://deb.debian.org/debian buster-updates main\n",
        "deb [arch=amd64 signed-by=/usr/share/keyrings/debian-security-buster.gpg] http://deb.debian.org/debian-security buster/updates main\n",
        "EOF\n",
        "\n",
        "# Add keys\n",
        "apt-key adv --keyserver keyserver.ubuntu.com --recv-keys DCC9EFBF77E11517\n",
        "apt-key adv --keyserver keyserver.ubuntu.com --recv-keys 648ACFD622F3D138\n",
        "apt-key adv --keyserver keyserver.ubuntu.com --recv-keys 112695A0E562B32A\n",
        "\n",
        "apt-key export 77E11517 | gpg --dearmour -o /usr/share/keyrings/debian-buster.gpg\n",
        "apt-key export 22F3D138 | gpg --dearmour -o /usr/share/keyrings/debian-buster-updates.gpg\n",
        "apt-key export E562B32A | gpg --dearmour -o /usr/share/keyrings/debian-security-buster.gpg\n",
        "\n",
        "# Prefer debian repo for chromium* packages only\n",
        "# Note the double-blank lines between entries\n",
        "cat > /etc/apt/preferences.d/chromium.pref << 'EOF'\n",
        "Package: *\n",
        "Pin: release a=eoan\n",
        "Pin-Priority: 500\n",
        "\n",
        "\n",
        "Package: *\n",
        "Pin: origin \"deb.debian.org\"\n",
        "Pin-Priority: 300\n",
        "\n",
        "\n",
        "Package: chromium*\n",
        "Pin: origin \"deb.debian.org\"\n",
        "Pin-Priority: 700\n",
        "EOF"
      ],
      "metadata": {
        "colab": {
          "base_uri": "https://localhost:8080/"
        },
        "id": "I1xEU7Yt9BLG",
        "outputId": "1074914f-972c-429c-f64a-8abc28186035"
      },
      "id": "I1xEU7Yt9BLG",
      "execution_count": 4,
      "outputs": [
        {
          "output_type": "stream",
          "name": "stdout",
          "text": [
            "Executing: /tmp/apt-key-gpghome.dUuKpAn2UZ/gpg.1.sh --keyserver keyserver.ubuntu.com --recv-keys DCC9EFBF77E11517\n",
            "gpg: key DCC9EFBF77E11517: \"Debian Stable Release Key (10/buster) <debian-release@lists.debian.org>\" not changed\n",
            "gpg: Total number processed: 1\n",
            "gpg:              unchanged: 1\n",
            "Executing: /tmp/apt-key-gpghome.KCV0kQOBKy/gpg.1.sh --keyserver keyserver.ubuntu.com --recv-keys 648ACFD622F3D138\n",
            "gpg: key DC30D7C23CBBABEE: \"Debian Archive Automatic Signing Key (10/buster) <ftpmaster@debian.org>\" not changed\n",
            "gpg: Total number processed: 1\n",
            "gpg:              unchanged: 1\n",
            "Executing: /tmp/apt-key-gpghome.xEVMvrYjJx/gpg.1.sh --keyserver keyserver.ubuntu.com --recv-keys 112695A0E562B32A\n",
            "gpg: key 4DFAB270CAA96DFA: \"Debian Security Archive Automatic Signing Key (10/buster) <ftpmaster@debian.org>\" not changed\n",
            "gpg: Total number processed: 1\n",
            "gpg:              unchanged: 1\n",
            "gpg: cannot open '/dev/tty': No such device or address\n",
            "Warning: apt-key output should not be parsed (stdout is not a terminal)\n",
            "gpg: [stdout]: write error: Broken pipe\n",
            "gpg: filter_flush failed on close: Broken pipe\n",
            "gpg: cannot open '/dev/tty': No such device or address\n",
            "Warning: apt-key output should not be parsed (stdout is not a terminal)\n",
            "gpg: [stdout]: write error: Broken pipe\n",
            "gpg: filter_flush failed on close: Broken pipe\n",
            "gpg: cannot open '/dev/tty': No such device or address\n",
            "Warning: apt-key output should not be parsed (stdout is not a terminal)\n",
            "gpg: [stdout]: write error: Broken pipe\n",
            "gpg: filter_flush failed on close: Broken pipe\n"
          ]
        },
        {
          "output_type": "execute_result",
          "data": {
            "text/plain": []
          },
          "metadata": {},
          "execution_count": 4
        }
      ]
    },
    {
      "cell_type": "code",
      "source": [
        "!wget https://chromedriver.storage.googleapis.com/90.0.4430.24/chromedriver_linux64.zip\n",
        "!unzip chromedriver_linux64.zip\n",
        "!chmod 777 chromedriver\n",
        "!mv chromedriver /usr/bin/"
      ],
      "metadata": {
        "colab": {
          "base_uri": "https://localhost:8080/"
        },
        "id": "1LloaSOsEz3_",
        "outputId": "840a0d3f-de55-4744-87e5-486547c93fad"
      },
      "id": "1LloaSOsEz3_",
      "execution_count": 5,
      "outputs": [
        {
          "output_type": "stream",
          "name": "stdout",
          "text": [
            "--2023-06-30 06:53:27--  https://chromedriver.storage.googleapis.com/90.0.4430.24/chromedriver_linux64.zip\n",
            "Resolving chromedriver.storage.googleapis.com (chromedriver.storage.googleapis.com)... 142.251.171.128, 2607:f8b0:4001:c5f::80\n",
            "Connecting to chromedriver.storage.googleapis.com (chromedriver.storage.googleapis.com)|142.251.171.128|:443... connected.\n",
            "HTTP request sent, awaiting response... 200 OK\n",
            "Length: 5795569 (5.5M) [application/zip]\n",
            "Saving to: ‘chromedriver_linux64.zip’\n",
            "\n",
            "\rchromedriver_linux6   0%[                    ]       0  --.-KB/s               \rchromedriver_linux6 100%[===================>]   5.53M  --.-KB/s    in 0.03s   \n",
            "\n",
            "2023-06-30 06:53:27 (173 MB/s) - ‘chromedriver_linux64.zip’ saved [5795569/5795569]\n",
            "\n",
            "Archive:  chromedriver_linux64.zip\n",
            "  inflating: chromedriver            \n"
          ]
        }
      ]
    },
    {
      "cell_type": "code",
      "source": [
        "from selenium import webdriver\n",
        "from selenium.webdriver.chrome.options import Options\n",
        "from selenium.webdriver.chrome.service import Service\n",
        "\n",
        "url = \"http://example.com\"\n",
        "\n",
        "service = Service(\"/usr/bin/chromedriver\")\n",
        "\n",
        "options = Options()\n",
        "options.add_argument(\"--headless\")\n",
        "options.add_argument(\"--no-sandbox\")\n",
        "\n",
        "driver = webdriver.Chrome(service=service, options=options)\n",
        "\n",
        "driver.get(url)\n",
        "print(driver.title)\n",
        "driver.quit()"
      ],
      "metadata": {
        "colab": {
          "base_uri": "https://localhost:8080/"
        },
        "id": "4rRI-Aj3E_31",
        "outputId": "8907f391-4352-45cf-a301-23d9cf11fc4b"
      },
      "id": "4rRI-Aj3E_31",
      "execution_count": 6,
      "outputs": [
        {
          "output_type": "stream",
          "name": "stdout",
          "text": [
            "Example Domain\n"
          ]
        }
      ]
    },
    {
      "cell_type": "code",
      "source": [],
      "metadata": {
        "id": "aJ_keIS6FFeB"
      },
      "id": "aJ_keIS6FFeB",
      "execution_count": null,
      "outputs": []
    },
    {
      "cell_type": "code",
      "execution_count": 10,
      "id": "24313043",
      "metadata": {
        "id": "24313043"
      },
      "outputs": [],
      "source": [
        "from selenium import webdriver\n",
        "from selenium.webdriver.common.by import By\n",
        "from selenium.webdriver.support.ui import WebDriverWait\n",
        "from selenium.webdriver.support import expected_conditions as EC\n",
        "from selenium.webdriver.common.keys import Keys\n",
        "\n",
        "import time"
      ]
    },
    {
      "cell_type": "markdown",
      "id": "f6bc95d9",
      "metadata": {
        "id": "f6bc95d9"
      },
      "source": [
        "## 1. 웹드라이버 다루기"
      ]
    },
    {
      "cell_type": "code",
      "execution_count": 7,
      "id": "f5fb5f81",
      "metadata": {
        "scrolled": false,
        "id": "f5fb5f81"
      },
      "outputs": [],
      "source": [
        "# 드라이버 로드\n",
        "# driver = webdriver.Chrome()\n",
        "driver = webdriver.Chrome(service=service, options=options)\n",
        "\n",
        "# 페이지 접근\n",
        "driver.get('http://quotes.toscrape.com/') # 크롤링 예제 사이트\n",
        "\n",
        "# 드라이버 종료\n",
        "# driver.close()"
      ]
    },
    {
      "cell_type": "code",
      "execution_count": null,
      "id": "423304fc",
      "metadata": {
        "id": "423304fc"
      },
      "outputs": [],
      "source": [
        "# 드라이버에서 요소 찾기\n",
        "\n",
        "## 태그 이름으로 찾기\n",
        "# driver.find_element(By.TAG_NAME, 'TAG_NAME')\n",
        "\n",
        "## 아이디로 찾기\n",
        "# driver.find_element(By.ID, 'ID')\n",
        "\n",
        "## 클래스 이름으로 찾기\n",
        "# driver.find_element(By.CLASS_NAME, 'CLASS_NAME')\n",
        "\n",
        "## css 셀렉터로 찾기\n",
        "# driver.find_element(By.CSS_SELECTOR, 'CSS_SELECTOR')\n",
        "\n",
        "# 드라이버에서 여러 요소 찾기\n",
        "# driver.find_elements(By.CSS_SELECTOR, 'CSS_SELECTOR')"
      ]
    },
    {
      "cell_type": "markdown",
      "id": "cb79faa4",
      "metadata": {
        "id": "cb79faa4"
      },
      "source": [
        "- 만약 데이터를 구하기 위해 상호작용 필요하다면 키 입력이나, 클릭 등을 자동화해야 한다."
      ]
    },
    {
      "cell_type": "markdown",
      "id": "158f696a",
      "metadata": {
        "id": "158f696a"
      },
      "source": [
        "### 로그인하기"
      ]
    },
    {
      "cell_type": "code",
      "execution_count": 11,
      "id": "f1615643",
      "metadata": {
        "id": "f1615643"
      },
      "outputs": [],
      "source": [
        "# 로그인 버튼 찾기\n",
        "login_btn = driver.find_element(By.CSS_SELECTOR, 'body > div > div.row.header-box > div.col-md-4 > p > a')\n"
      ]
    },
    {
      "cell_type": "code",
      "execution_count": 12,
      "id": "5362cb6b",
      "metadata": {
        "id": "5362cb6b"
      },
      "outputs": [],
      "source": [
        "# 로그인 버튼 클릭\n",
        "login_btn.click()"
      ]
    },
    {
      "cell_type": "code",
      "execution_count": 13,
      "id": "c36f362e",
      "metadata": {
        "id": "c36f362e"
      },
      "outputs": [],
      "source": [
        "# id, pw 입력\n",
        "id_input = driver.find_element(By.CSS_SELECTOR, '#username')\n",
        "password_input = driver.find_element(By.CSS_SELECTOR, '#password')"
      ]
    },
    {
      "cell_type": "code",
      "execution_count": 14,
      "id": "f893975a",
      "metadata": {
        "id": "f893975a"
      },
      "outputs": [],
      "source": [
        "id_input.send_keys('test')\n",
        "password_input.send_keys('test')"
      ]
    },
    {
      "cell_type": "code",
      "execution_count": 15,
      "id": "45f53785",
      "metadata": {
        "id": "45f53785"
      },
      "outputs": [],
      "source": [
        "# login 버튼 클릭\n",
        "login_btn = driver.find_element(By.CSS_SELECTOR, 'body > div > form > input.btn.btn-primary')\n",
        "login_btn.click()"
      ]
    },
    {
      "cell_type": "markdown",
      "id": "d2702152",
      "metadata": {
        "id": "d2702152"
      },
      "source": [
        "### 데이터 추출하기"
      ]
    },
    {
      "cell_type": "code",
      "execution_count": null,
      "id": "9af4200c",
      "metadata": {
        "id": "9af4200c"
      },
      "outputs": [],
      "source": [
        "# 요소에서 텍스트 추출하는 방법\n",
        "# 요소.text\n",
        "\n",
        "# 요소에서 속성 추출하는 방법\n",
        "# 요소.get_attribute('속성명')"
      ]
    },
    {
      "cell_type": "code",
      "execution_count": 16,
      "id": "b85f34d7",
      "metadata": {
        "id": "b85f34d7",
        "colab": {
          "base_uri": "https://localhost:8080/"
        },
        "outputId": "5a72626f-33e5-40ff-ec02-71f484965c38"
      },
      "outputs": [
        {
          "output_type": "stream",
          "name": "stdout",
          "text": [
            "10\n"
          ]
        }
      ],
      "source": [
        "# 인용구 리스트 추출\n",
        "# body > div > div:nth-child(2) > div.col-md-8 > div:nth-child(1)\n",
        "# 마지막 div에서 순서를 나타내는 nth-child(1)을 제거하면 전체 리스트를 가져올 수 있음\n",
        "\n",
        "quotes = driver.find_elements(By.CSS_SELECTOR, 'body > div > div:nth-child(2) > div.col-md-8 > div')\n",
        "print(len(quotes))"
      ]
    },
    {
      "cell_type": "code",
      "execution_count": 17,
      "id": "5fd213b3",
      "metadata": {
        "id": "5fd213b3",
        "colab": {
          "base_uri": "https://localhost:8080/"
        },
        "outputId": "8a4961d6-217d-4e6a-b6bf-acd924988361"
      },
      "outputs": [
        {
          "output_type": "stream",
          "name": "stdout",
          "text": [
            "인용문 : “The world as we have created it is a process of our thinking. It cannot be changed without changing our thinking.”\n",
            "인물 : Albert Einstein\n",
            "인물 정보 링크 : http://quotes.toscrape.com/author/Albert-Einstein\n",
            "----------------------------------\n",
            "인용문 : “It is our choices, Harry, that show what we truly are, far more than our abilities.”\n",
            "인물 : J.K. Rowling\n",
            "인물 정보 링크 : http://quotes.toscrape.com/author/J-K-Rowling\n",
            "----------------------------------\n",
            "인용문 : “There are only two ways to live your life. One is as though nothing is a miracle. The other is as though everything is a miracle.”\n",
            "인물 : Albert Einstein\n",
            "인물 정보 링크 : http://quotes.toscrape.com/author/Albert-Einstein\n",
            "----------------------------------\n",
            "인용문 : “The person, be it gentleman or lady, who has not pleasure in a good novel, must be intolerably stupid.”\n",
            "인물 : Jane Austen\n",
            "인물 정보 링크 : http://quotes.toscrape.com/author/Jane-Austen\n",
            "----------------------------------\n",
            "인용문 : “Imperfection is beauty, madness is genius and it's better to be absolutely ridiculous than absolutely boring.”\n",
            "인물 : Marilyn Monroe\n",
            "인물 정보 링크 : http://quotes.toscrape.com/author/Marilyn-Monroe\n",
            "----------------------------------\n",
            "인용문 : “Try not to become a man of success. Rather become a man of value.”\n",
            "인물 : Albert Einstein\n",
            "인물 정보 링크 : http://quotes.toscrape.com/author/Albert-Einstein\n",
            "----------------------------------\n",
            "인용문 : “It is better to be hated for what you are than to be loved for what you are not.”\n",
            "인물 : André Gide\n",
            "인물 정보 링크 : http://quotes.toscrape.com/author/Andre-Gide\n",
            "----------------------------------\n",
            "인용문 : “I have not failed. I've just found 10,000 ways that won't work.”\n",
            "인물 : Thomas A. Edison\n",
            "인물 정보 링크 : http://quotes.toscrape.com/author/Thomas-A-Edison\n",
            "----------------------------------\n",
            "인용문 : “A woman is like a tea bag; you never know how strong it is until it's in hot water.”\n",
            "인물 : Eleanor Roosevelt\n",
            "인물 정보 링크 : http://quotes.toscrape.com/author/Eleanor-Roosevelt\n",
            "----------------------------------\n",
            "인용문 : “A day without sunshine is like, you know, night.”\n",
            "인물 : Steve Martin\n",
            "인물 정보 링크 : http://quotes.toscrape.com/author/Steve-Martin\n",
            "----------------------------------\n"
          ]
        }
      ],
      "source": [
        "for quote in quotes:\n",
        "    print(\"인용문 : \"+quote.find_element(By.CSS_SELECTOR, 'span:nth-of-type(1)').text)\n",
        "    print(\"인물 : \"+quote.find_element(By.CSS_SELECTOR, 'span:nth-of-type(2) > small').text)\n",
        "    print(\"인물 정보 링크 : \"+quote.find_element(By.CSS_SELECTOR, 'span:nth-of-type(2) > a:nth-of-type(1)').get_attribute('href'))\n",
        "    print('----------------------------------')\n"
      ]
    },
    {
      "cell_type": "code",
      "execution_count": 18,
      "id": "c89db258",
      "metadata": {
        "id": "c89db258"
      },
      "outputs": [],
      "source": [
        "driver.close()"
      ]
    },
    {
      "cell_type": "markdown",
      "id": "f8b6d7f4",
      "metadata": {
        "id": "f8b6d7f4"
      },
      "source": [
        "---"
      ]
    },
    {
      "cell_type": "markdown",
      "id": "61fa243a",
      "metadata": {
        "id": "61fa243a"
      },
      "source": [
        "### element 로딩을 기다리기"
      ]
    },
    {
      "cell_type": "code",
      "execution_count": 20,
      "id": "2990acc3",
      "metadata": {
        "id": "2990acc3",
        "colab": {
          "base_uri": "https://localhost:8080/",
          "height": 415
        },
        "outputId": "3e7fbc3f-1bc0-425e-f77c-35e0d8ab2506"
      },
      "outputs": [
        {
          "output_type": "error",
          "ename": "NoSuchElementException",
          "evalue": "ignored",
          "traceback": [
            "\u001b[0;31m---------------------------------------------------------------------------\u001b[0m",
            "\u001b[0;31mNoSuchElementException\u001b[0m                    Traceback (most recent call last)",
            "\u001b[0;32m<ipython-input-20-5a5126fa4f0d>\u001b[0m in \u001b[0;36m<cell line: 9>\u001b[0;34m()\u001b[0m\n\u001b[1;32m      7\u001b[0m \u001b[0;34m\u001b[0m\u001b[0m\n\u001b[1;32m      8\u001b[0m \u001b[0;31m# 검색 창에 검색어 입력\u001b[0m\u001b[0;34m\u001b[0m\u001b[0;34m\u001b[0m\u001b[0m\n\u001b[0;32m----> 9\u001b[0;31m \u001b[0msearch_input\u001b[0m \u001b[0;34m=\u001b[0m \u001b[0mdriver\u001b[0m\u001b[0;34m.\u001b[0m\u001b[0mfind_element\u001b[0m\u001b[0;34m(\u001b[0m\u001b[0mBy\u001b[0m\u001b[0;34m.\u001b[0m\u001b[0mCSS_SELECTOR\u001b[0m\u001b[0;34m,\u001b[0m \u001b[0;34m'input[id^=\"input_search\"]'\u001b[0m\u001b[0;34m)\u001b[0m    \u001b[0;31m# id 가 새롭게 로드될 때 마다 바뀌는 구조\u001b[0m\u001b[0;34m\u001b[0m\u001b[0;34m\u001b[0m\u001b[0m\n\u001b[0m\u001b[1;32m     10\u001b[0m                                                                                     \u001b[0;31m# input 태그의 id 속성이 input_search로 시작하는 요소를 찾아라\u001b[0m\u001b[0;34m\u001b[0m\u001b[0;34m\u001b[0m\u001b[0m\n\u001b[1;32m     11\u001b[0m \u001b[0;34m\u001b[0m\u001b[0m\n",
            "\u001b[0;32m/usr/local/lib/python3.10/dist-packages/selenium/webdriver/remote/webdriver.py\u001b[0m in \u001b[0;36mfind_element\u001b[0;34m(self, by, value)\u001b[0m\n\u001b[1;32m    738\u001b[0m             \u001b[0mvalue\u001b[0m \u001b[0;34m=\u001b[0m \u001b[0;34mf'[name=\"{value}\"]'\u001b[0m\u001b[0;34m\u001b[0m\u001b[0;34m\u001b[0m\u001b[0m\n\u001b[1;32m    739\u001b[0m \u001b[0;34m\u001b[0m\u001b[0m\n\u001b[0;32m--> 740\u001b[0;31m         \u001b[0;32mreturn\u001b[0m \u001b[0mself\u001b[0m\u001b[0;34m.\u001b[0m\u001b[0mexecute\u001b[0m\u001b[0;34m(\u001b[0m\u001b[0mCommand\u001b[0m\u001b[0;34m.\u001b[0m\u001b[0mFIND_ELEMENT\u001b[0m\u001b[0;34m,\u001b[0m \u001b[0;34m{\u001b[0m\u001b[0;34m\"using\"\u001b[0m\u001b[0;34m:\u001b[0m \u001b[0mby\u001b[0m\u001b[0;34m,\u001b[0m \u001b[0;34m\"value\"\u001b[0m\u001b[0;34m:\u001b[0m \u001b[0mvalue\u001b[0m\u001b[0;34m}\u001b[0m\u001b[0;34m)\u001b[0m\u001b[0;34m[\u001b[0m\u001b[0;34m\"value\"\u001b[0m\u001b[0;34m]\u001b[0m\u001b[0;34m\u001b[0m\u001b[0;34m\u001b[0m\u001b[0m\n\u001b[0m\u001b[1;32m    741\u001b[0m \u001b[0;34m\u001b[0m\u001b[0m\n\u001b[1;32m    742\u001b[0m     \u001b[0;32mdef\u001b[0m \u001b[0mfind_elements\u001b[0m\u001b[0;34m(\u001b[0m\u001b[0mself\u001b[0m\u001b[0;34m,\u001b[0m \u001b[0mby\u001b[0m\u001b[0;34m=\u001b[0m\u001b[0mBy\u001b[0m\u001b[0;34m.\u001b[0m\u001b[0mID\u001b[0m\u001b[0;34m,\u001b[0m \u001b[0mvalue\u001b[0m\u001b[0;34m:\u001b[0m \u001b[0mOptional\u001b[0m\u001b[0;34m[\u001b[0m\u001b[0mstr\u001b[0m\u001b[0;34m]\u001b[0m \u001b[0;34m=\u001b[0m \u001b[0;32mNone\u001b[0m\u001b[0;34m)\u001b[0m \u001b[0;34m->\u001b[0m \u001b[0mList\u001b[0m\u001b[0;34m[\u001b[0m\u001b[0mWebElement\u001b[0m\u001b[0;34m]\u001b[0m\u001b[0;34m:\u001b[0m\u001b[0;34m\u001b[0m\u001b[0;34m\u001b[0m\u001b[0m\n",
            "\u001b[0;32m/usr/local/lib/python3.10/dist-packages/selenium/webdriver/remote/webdriver.py\u001b[0m in \u001b[0;36mexecute\u001b[0;34m(self, driver_command, params)\u001b[0m\n\u001b[1;32m    344\u001b[0m         \u001b[0mresponse\u001b[0m \u001b[0;34m=\u001b[0m \u001b[0mself\u001b[0m\u001b[0;34m.\u001b[0m\u001b[0mcommand_executor\u001b[0m\u001b[0;34m.\u001b[0m\u001b[0mexecute\u001b[0m\u001b[0;34m(\u001b[0m\u001b[0mdriver_command\u001b[0m\u001b[0;34m,\u001b[0m \u001b[0mparams\u001b[0m\u001b[0;34m)\u001b[0m\u001b[0;34m\u001b[0m\u001b[0;34m\u001b[0m\u001b[0m\n\u001b[1;32m    345\u001b[0m         \u001b[0;32mif\u001b[0m \u001b[0mresponse\u001b[0m\u001b[0;34m:\u001b[0m\u001b[0;34m\u001b[0m\u001b[0;34m\u001b[0m\u001b[0m\n\u001b[0;32m--> 346\u001b[0;31m             \u001b[0mself\u001b[0m\u001b[0;34m.\u001b[0m\u001b[0merror_handler\u001b[0m\u001b[0;34m.\u001b[0m\u001b[0mcheck_response\u001b[0m\u001b[0;34m(\u001b[0m\u001b[0mresponse\u001b[0m\u001b[0;34m)\u001b[0m\u001b[0;34m\u001b[0m\u001b[0;34m\u001b[0m\u001b[0m\n\u001b[0m\u001b[1;32m    347\u001b[0m             \u001b[0mresponse\u001b[0m\u001b[0;34m[\u001b[0m\u001b[0;34m\"value\"\u001b[0m\u001b[0;34m]\u001b[0m \u001b[0;34m=\u001b[0m \u001b[0mself\u001b[0m\u001b[0;34m.\u001b[0m\u001b[0m_unwrap_value\u001b[0m\u001b[0;34m(\u001b[0m\u001b[0mresponse\u001b[0m\u001b[0;34m.\u001b[0m\u001b[0mget\u001b[0m\u001b[0;34m(\u001b[0m\u001b[0;34m\"value\"\u001b[0m\u001b[0;34m,\u001b[0m \u001b[0;32mNone\u001b[0m\u001b[0;34m)\u001b[0m\u001b[0;34m)\u001b[0m\u001b[0;34m\u001b[0m\u001b[0;34m\u001b[0m\u001b[0m\n\u001b[1;32m    348\u001b[0m             \u001b[0;32mreturn\u001b[0m \u001b[0mresponse\u001b[0m\u001b[0;34m\u001b[0m\u001b[0;34m\u001b[0m\u001b[0m\n",
            "\u001b[0;32m/usr/local/lib/python3.10/dist-packages/selenium/webdriver/remote/errorhandler.py\u001b[0m in \u001b[0;36mcheck_response\u001b[0;34m(self, response)\u001b[0m\n\u001b[1;32m    243\u001b[0m                 \u001b[0malert_text\u001b[0m \u001b[0;34m=\u001b[0m \u001b[0mvalue\u001b[0m\u001b[0;34m[\u001b[0m\u001b[0;34m\"alert\"\u001b[0m\u001b[0;34m]\u001b[0m\u001b[0;34m.\u001b[0m\u001b[0mget\u001b[0m\u001b[0;34m(\u001b[0m\u001b[0;34m\"text\"\u001b[0m\u001b[0;34m)\u001b[0m\u001b[0;34m\u001b[0m\u001b[0;34m\u001b[0m\u001b[0m\n\u001b[1;32m    244\u001b[0m             \u001b[0;32mraise\u001b[0m \u001b[0mexception_class\u001b[0m\u001b[0;34m(\u001b[0m\u001b[0mmessage\u001b[0m\u001b[0;34m,\u001b[0m \u001b[0mscreen\u001b[0m\u001b[0;34m,\u001b[0m \u001b[0mstacktrace\u001b[0m\u001b[0;34m,\u001b[0m \u001b[0malert_text\u001b[0m\u001b[0;34m)\u001b[0m  \u001b[0;31m# type: ignore[call-arg]  # mypy is not smart enough here\u001b[0m\u001b[0;34m\u001b[0m\u001b[0;34m\u001b[0m\u001b[0m\n\u001b[0;32m--> 245\u001b[0;31m         \u001b[0;32mraise\u001b[0m \u001b[0mexception_class\u001b[0m\u001b[0;34m(\u001b[0m\u001b[0mmessage\u001b[0m\u001b[0;34m,\u001b[0m \u001b[0mscreen\u001b[0m\u001b[0;34m,\u001b[0m \u001b[0mstacktrace\u001b[0m\u001b[0;34m)\u001b[0m\u001b[0;34m\u001b[0m\u001b[0;34m\u001b[0m\u001b[0m\n\u001b[0m",
            "\u001b[0;31mNoSuchElementException\u001b[0m: Message: no such element: Unable to locate element: {\"method\":\"css selector\",\"selector\":\"input[id^=\"input_search\"]\"}\n  (Session info: headless chrome=90.0.4430.212); For documentation on this error, please visit: https://www.selenium.dev/documentation/webdriver/troubleshooting/errors#no-such-element-exception\nStacktrace:\n#0 0x561953134e89 <unknown>\n"
          ]
        }
      ],
      "source": [
        "# 드라이버 로드\n",
        "# driver = webdriver.Chrome()\n",
        "driver = webdriver.Chrome(service=service, options=options)\n",
        "\n",
        "# 페이지 접근\n",
        "driver.get('https://map.naver.com/') # 크롤링 예제 사이트\n",
        "\n",
        "# 검색 창에 검색어 입력\n",
        "search_input = driver.find_element(By.CSS_SELECTOR, 'input[id^=\"input_search\"]')    # id 가 새롭게 로드될 때 마다 바뀌는 구조\n",
        "                                                                                    # input 태그의 id 속성이 input_search로 시작하는 요소를 찾아라\n",
        "\n",
        "search_input.send_keys('대구광역시 북구 고성동 치킨')\n"
      ]
    },
    {
      "cell_type": "markdown",
      "id": "d091bb99",
      "metadata": {
        "id": "d091bb99"
      },
      "source": [
        "- 왜 에러가 발생하는 걸까요?"
      ]
    },
    {
      "cell_type": "code",
      "execution_count": 21,
      "id": "6cbf98fc",
      "metadata": {
        "id": "6cbf98fc"
      },
      "outputs": [],
      "source": [
        "# 다시 실행하면 엘리먼트가 찾아짐\n",
        "search_input = driver.find_element(By.CSS_SELECTOR, 'input[id^=\"input_search\"]')\n",
        "search_input.send_keys('대구광역시 북구 고성동 치킨')"
      ]
    },
    {
      "cell_type": "markdown",
      "id": "fa575a25",
      "metadata": {
        "id": "fa575a25"
      },
      "source": [
        "- 검색창이 로딩되기 전에 탐색을 시도하여 없다고 판단하고 에러를 발생시킴\n",
        "- 이럴땐 찾으려는 요소가 나타날때 까지 기다려줘야한다"
      ]
    },
    {
      "cell_type": "code",
      "execution_count": 22,
      "id": "c00f3e31",
      "metadata": {
        "id": "c00f3e31"
      },
      "outputs": [],
      "source": [
        "## 요소를 기다리는 코드 추가\n",
        "\n",
        "# 드라이버 로드\n",
        "# driver = webdriver.Chrome()\n",
        "driver = webdriver.Chrome(service=service, options=options)\n",
        "\n",
        "# 페이지 접근\n",
        "driver.get('https://map.naver.com/') # 크롤링 예제 사이트\n",
        "\n",
        "# 검색 element 가 로드될 때까지 최대 10초간 대기\n",
        "search_input = WebDriverWait(driver, 10).until(EC.presence_of_element_located((By.CSS_SELECTOR, 'input[id^=\"input_search\"]'))) # 요소가 나타날때 까지 최대 10초 대기\n",
        "\n",
        "# 검색 창에 검색어 입력\n",
        "search_input.send_keys('대구광역시 북구 고성동 치킨')\n",
        "\n",
        "# enter 입력\n",
        "search_input.send_keys(Keys.ENTER)"
      ]
    },
    {
      "cell_type": "markdown",
      "id": "457291cd",
      "metadata": {
        "id": "457291cd"
      },
      "source": [
        "- wait 조건이 나열되어 있는 문서"
      ]
    },
    {
      "cell_type": "markdown",
      "id": "c6e4b91c",
      "metadata": {
        "id": "c6e4b91c"
      },
      "source": [
        "https://selenium-python.readthedocs.io/waits.html"
      ]
    }
  ],
  "metadata": {
    "kernelspec": {
      "display_name": "Python 3 (ipykernel)",
      "language": "python",
      "name": "python3"
    },
    "language_info": {
      "codemirror_mode": {
        "name": "ipython",
        "version": 3
      },
      "file_extension": ".py",
      "mimetype": "text/x-python",
      "name": "python",
      "nbconvert_exporter": "python",
      "pygments_lexer": "ipython3",
      "version": "3.10.9"
    },
    "colab": {
      "provenance": [],
      "include_colab_link": true
    }
  },
  "nbformat": 4,
  "nbformat_minor": 5
}