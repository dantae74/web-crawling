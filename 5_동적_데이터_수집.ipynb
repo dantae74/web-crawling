{
  "cells": [
    {
      "cell_type": "markdown",
      "metadata": {
        "id": "view-in-github",
        "colab_type": "text"
      },
      "source": [
        "<a href=\"https://colab.research.google.com/github/dantae74/web-crawling/blob/main/5_%EB%8F%99%EC%A0%81_%EB%8D%B0%EC%9D%B4%ED%84%B0_%EC%88%98%EC%A7%91.ipynb\" target=\"_parent\"><img src=\"https://colab.research.google.com/assets/colab-badge.svg\" alt=\"Open In Colab\"/></a>"
      ]
    },
    {
      "cell_type": "markdown",
      "id": "7a80b617",
      "metadata": {
        "id": "7a80b617"
      },
      "source": [
        "# 동적 데이터 수집"
      ]
    },
    {
      "cell_type": "markdown",
      "id": "778538d6",
      "metadata": {
        "id": "778538d6"
      },
      "source": [
        "---"
      ]
    },
    {
      "cell_type": "markdown",
      "id": "2eee17a6",
      "metadata": {
        "id": "2eee17a6"
      },
      "source": [
        "## 0. 라이브러리 import"
      ]
    },
    {
      "cell_type": "code",
      "source": [
        "# !pip install selenium\n",
        "!pip install --trusted-host pypi.python.org --trusted-host files.pythonhosted.org --trusted-host pypi.org -U selenium"
      ],
      "metadata": {
        "id": "Dv5oK5t-cTdG"
      },
      "id": "Dv5oK5t-cTdG",
      "execution_count": null,
      "outputs": []
    },
    {
      "cell_type": "code",
      "source": [
        "%%shell\n",
        "\n",
        "# Add debian buster\n",
        "cat > /etc/apt/sources.list.d/debian.list <<'EOF'\n",
        "deb [arch=amd64 signed-by=/usr/share/keyrings/debian-buster.gpg] http://deb.debian.org/debian buster main\n",
        "deb [arch=amd64 signed-by=/usr/share/keyrings/debian-buster-updates.gpg] http://deb.debian.org/debian buster-updates main\n",
        "deb [arch=amd64 signed-by=/usr/share/keyrings/debian-security-buster.gpg] http://deb.debian.org/debian-security buster/updates main\n",
        "EOF\n",
        "\n",
        "# Add keys\n",
        "apt-key adv --keyserver keyserver.ubuntu.com --recv-keys DCC9EFBF77E11517\n",
        "apt-key adv --keyserver keyserver.ubuntu.com --recv-keys 648ACFD622F3D138\n",
        "apt-key adv --keyserver keyserver.ubuntu.com --recv-keys 112695A0E562B32A\n",
        "\n",
        "apt-key export 77E11517 | gpg --dearmour -o /usr/share/keyrings/debian-buster.gpg\n",
        "apt-key export 22F3D138 | gpg --dearmour -o /usr/share/keyrings/debian-buster-updates.gpg\n",
        "apt-key export E562B32A | gpg --dearmour -o /usr/share/keyrings/debian-security-buster.gpg\n",
        "\n",
        "# Prefer debian repo for chromium* packages only\n",
        "# Note the double-blank lines between entries\n",
        "cat > /etc/apt/preferences.d/chromium.pref << 'EOF'\n",
        "Package: *\n",
        "Pin: release a=eoan\n",
        "Pin-Priority: 500\n",
        "\n",
        "\n",
        "Package: *\n",
        "Pin: origin \"deb.debian.org\"\n",
        "Pin-Priority: 300\n",
        "\n",
        "\n",
        "Package: chromium*\n",
        "Pin: origin \"deb.debian.org\"\n",
        "Pin-Priority: 700\n",
        "EOF"
      ],
      "metadata": {
        "id": "I1xEU7Yt9BLG"
      },
      "id": "I1xEU7Yt9BLG",
      "execution_count": null,
      "outputs": []
    },
    {
      "cell_type": "code",
      "source": [
        "!wget https://chromedriver.storage.googleapis.com/90.0.4430.24/chromedriver_linux64.zip\n",
        "!unzip chromedriver_linux64.zip\n",
        "!chmod 777 chromedriver\n",
        "!mv chromedriver /usr/bin/"
      ],
      "metadata": {
        "id": "1LloaSOsEz3_"
      },
      "id": "1LloaSOsEz3_",
      "execution_count": null,
      "outputs": []
    },
    {
      "cell_type": "code",
      "source": [
        "from selenium import webdriver\n",
        "from selenium.webdriver.chrome.options import Options\n",
        "from selenium.webdriver.chrome.service import Service\n",
        "\n",
        "url = \"http://example.com\"\n",
        "\n",
        "service = Service(\"/usr/bin/chromedriver\")\n",
        "\n",
        "options = Options()\n",
        "options.add_argument(\"--headless\")\n",
        "options.add_argument(\"--no-sandbox\")\n",
        "\n",
        "driver = webdriver.Chrome(service=service, options=options)\n",
        "\n",
        "driver.get(url)\n",
        "print(driver.title)\n",
        "driver.quit()"
      ],
      "metadata": {
        "id": "4rRI-Aj3E_31"
      },
      "id": "4rRI-Aj3E_31",
      "execution_count": null,
      "outputs": []
    },
    {
      "cell_type": "code",
      "execution_count": null,
      "id": "24313043",
      "metadata": {
        "id": "24313043"
      },
      "outputs": [],
      "source": [
        "from selenium import webdriver\n",
        "from selenium.webdriver.common.by import By\n",
        "from selenium.webdriver.support.ui import WebDriverWait\n",
        "from selenium.webdriver.support import expected_conditions as EC\n",
        "from selenium.webdriver.common.keys import Keys\n",
        "\n",
        "import time"
      ]
    },
    {
      "cell_type": "markdown",
      "id": "f6bc95d9",
      "metadata": {
        "id": "f6bc95d9"
      },
      "source": [
        "## 1. 웹드라이버 다루기"
      ]
    },
    {
      "cell_type": "code",
      "execution_count": null,
      "id": "f5fb5f81",
      "metadata": {
        "scrolled": false,
        "id": "f5fb5f81"
      },
      "outputs": [],
      "source": [
        "# 드라이버 로드\n",
        "# driver = webdriver.Chrome()\n",
        "driver = webdriver.Chrome(service=service, options=options)\n",
        "\n",
        "# 페이지 접근\n",
        "driver.get('http://quotes.toscrape.com/') # 크롤링 예제 사이트\n",
        "\n",
        "# 드라이버 종료\n",
        "# driver.close()"
      ]
    },
    {
      "cell_type": "code",
      "execution_count": null,
      "id": "423304fc",
      "metadata": {
        "id": "423304fc"
      },
      "outputs": [],
      "source": [
        "# 드라이버에서 요소 찾기\n",
        "\n",
        "## 태그 이름으로 찾기\n",
        "# driver.find_element(By.TAG_NAME, 'TAG_NAME')\n",
        "\n",
        "## 아이디로 찾기\n",
        "# driver.find_element(By.ID, 'ID')\n",
        "\n",
        "## 클래스 이름으로 찾기\n",
        "# driver.find_element(By.CLASS_NAME, 'CLASS_NAME')\n",
        "\n",
        "## css 셀렉터로 찾기\n",
        "# driver.find_element(By.CSS_SELECTOR, 'CSS_SELECTOR')\n",
        "\n",
        "# 드라이버에서 여러 요소 찾기\n",
        "# driver.find_elements(By.CSS_SELECTOR, 'CSS_SELECTOR')"
      ]
    },
    {
      "cell_type": "markdown",
      "id": "cb79faa4",
      "metadata": {
        "id": "cb79faa4"
      },
      "source": [
        "- 만약 데이터를 구하기 위해 상호작용 필요하다면 키 입력이나, 클릭 등을 자동화해야 한다."
      ]
    },
    {
      "cell_type": "markdown",
      "id": "158f696a",
      "metadata": {
        "id": "158f696a"
      },
      "source": [
        "### 로그인하기"
      ]
    },
    {
      "cell_type": "code",
      "execution_count": null,
      "id": "f1615643",
      "metadata": {
        "id": "f1615643"
      },
      "outputs": [],
      "source": [
        "# 로그인 버튼 찾기\n",
        "login_btn = driver.find_element(By.CSS_SELECTOR, 'body > div > div.row.header-box > div.col-md-4 > p > a')\n"
      ]
    },
    {
      "cell_type": "code",
      "execution_count": null,
      "id": "5362cb6b",
      "metadata": {
        "id": "5362cb6b"
      },
      "outputs": [],
      "source": [
        "# 로그인 버튼 클릭\n",
        "login_btn.click()"
      ]
    },
    {
      "cell_type": "code",
      "execution_count": null,
      "id": "c36f362e",
      "metadata": {
        "id": "c36f362e"
      },
      "outputs": [],
      "source": [
        "# id, pw 입력\n",
        "id_input = driver.find_element(By.CSS_SELECTOR, '#username')\n",
        "password_input = driver.find_element(By.CSS_SELECTOR, '#password')"
      ]
    },
    {
      "cell_type": "code",
      "execution_count": null,
      "id": "f893975a",
      "metadata": {
        "id": "f893975a"
      },
      "outputs": [],
      "source": [
        "id_input.send_keys('test')\n",
        "password_input.send_keys('test')"
      ]
    },
    {
      "cell_type": "code",
      "execution_count": null,
      "id": "45f53785",
      "metadata": {
        "id": "45f53785"
      },
      "outputs": [],
      "source": [
        "# login 버튼 클릭\n",
        "login_btn = driver.find_element(By.CSS_SELECTOR, 'body > div > form > input.btn.btn-primary')\n",
        "login_btn.click()"
      ]
    },
    {
      "cell_type": "markdown",
      "id": "d2702152",
      "metadata": {
        "id": "d2702152"
      },
      "source": [
        "### 데이터 추출하기"
      ]
    },
    {
      "cell_type": "code",
      "execution_count": null,
      "id": "9af4200c",
      "metadata": {
        "id": "9af4200c"
      },
      "outputs": [],
      "source": [
        "# 요소에서 텍스트 추출하는 방법\n",
        "# 요소.text\n",
        "\n",
        "# 요소에서 속성 추출하는 방법\n",
        "# 요소.get_attribute('속성명')"
      ]
    },
    {
      "cell_type": "code",
      "execution_count": null,
      "id": "b85f34d7",
      "metadata": {
        "id": "b85f34d7"
      },
      "outputs": [],
      "source": [
        "# 인용구 리스트 추출\n",
        "# body > div > div:nth-child(2) > div.col-md-8 > div:nth-child(1)\n",
        "# 마지막 div에서 순서를 나타내는 nth-child(1)을 제거하면 전체 리스트를 가져올 수 있음\n",
        "\n",
        "quotes = driver.find_elements(By.CSS_SELECTOR, 'body > div > div:nth-child(2) > div.col-md-8 > div')\n",
        "print(len(quotes))"
      ]
    },
    {
      "cell_type": "code",
      "execution_count": null,
      "id": "5fd213b3",
      "metadata": {
        "id": "5fd213b3"
      },
      "outputs": [],
      "source": [
        "for quote in quotes:\n",
        "    print(\"인용문 : \"+quote.find_element(By.CSS_SELECTOR, 'span:nth-of-type(1)').text)\n",
        "    print(\"인물 : \"+quote.find_element(By.CSS_SELECTOR, 'span:nth-of-type(2) > small').text)\n",
        "    print(\"인물 정보 링크 : \"+quote.find_element(By.CSS_SELECTOR, 'span:nth-of-type(2) > a:nth-of-type(1)').get_attribute('href'))\n",
        "    print('----------------------------------')\n"
      ]
    },
    {
      "cell_type": "code",
      "execution_count": null,
      "id": "c89db258",
      "metadata": {
        "id": "c89db258"
      },
      "outputs": [],
      "source": [
        "driver.close()"
      ]
    },
    {
      "cell_type": "markdown",
      "id": "f8b6d7f4",
      "metadata": {
        "id": "f8b6d7f4"
      },
      "source": [
        "---"
      ]
    },
    {
      "cell_type": "markdown",
      "id": "61fa243a",
      "metadata": {
        "id": "61fa243a"
      },
      "source": [
        "### element 로딩을 기다리기"
      ]
    },
    {
      "cell_type": "code",
      "execution_count": null,
      "id": "2990acc3",
      "metadata": {
        "id": "2990acc3"
      },
      "outputs": [],
      "source": [
        "# 드라이버 로드\n",
        "# driver = webdriver.Chrome()\n",
        "driver = webdriver.Chrome(service=service, options=options)\n",
        "\n",
        "# 페이지 접근\n",
        "driver.get('https://map.naver.com/') # 크롤링 예제 사이트\n",
        "\n",
        "# 검색 창에 검색어 입력\n",
        "search_input = driver.find_element(By.CSS_SELECTOR, 'input[id^=\"input_search\"]')    # id 가 새롭게 로드될 때 마다 바뀌는 구조\n",
        "                                                                                    # input 태그의 id 속성이 input_search로 시작하는 요소를 찾아라\n",
        "\n",
        "search_input.send_keys('대구광역시 북구 고성동 치킨')\n"
      ]
    },
    {
      "cell_type": "markdown",
      "id": "d091bb99",
      "metadata": {
        "id": "d091bb99"
      },
      "source": [
        "- 왜 에러가 발생하는 걸까요?"
      ]
    },
    {
      "cell_type": "code",
      "execution_count": null,
      "id": "6cbf98fc",
      "metadata": {
        "id": "6cbf98fc"
      },
      "outputs": [],
      "source": [
        "# 다시 실행하면 엘리먼트가 찾아짐\n",
        "search_input = driver.find_element(By.CSS_SELECTOR, 'input[id^=\"input_search\"]')\n",
        "search_input.send_keys('대구광역시 북구 고성동 치킨')"
      ]
    },
    {
      "cell_type": "markdown",
      "id": "fa575a25",
      "metadata": {
        "id": "fa575a25"
      },
      "source": [
        "- 검색창이 로딩되기 전에 탐색을 시도하여 없다고 판단하고 에러를 발생시킴\n",
        "- 이럴땐 찾으려는 요소가 나타날때 까지 기다려줘야한다"
      ]
    },
    {
      "cell_type": "code",
      "execution_count": null,
      "id": "c00f3e31",
      "metadata": {
        "id": "c00f3e31"
      },
      "outputs": [],
      "source": [
        "## 요소를 기다리는 코드 추가\n",
        "\n",
        "# 드라이버 로드\n",
        "# driver = webdriver.Chrome()\n",
        "driver = webdriver.Chrome(service=service, options=options)\n",
        "\n",
        "# 페이지 접근\n",
        "driver.get('https://map.naver.com/') # 크롤링 예제 사이트\n",
        "\n",
        "# 검색 element 가 로드될 때까지 최대 10초간 대기\n",
        "search_input = WebDriverWait(driver, 10).until(EC.presence_of_element_located((By.CSS_SELECTOR, 'input[id^=\"input_search\"]'))) # 요소가 나타날때 까지 최대 10초 대기\n",
        "\n",
        "# 검색 창에 검색어 입력\n",
        "search_input.send_keys('대구광역시 북구 고성동 치킨')\n",
        "\n",
        "# enter 입력\n",
        "search_input.send_keys(Keys.ENTER)"
      ]
    },
    {
      "cell_type": "markdown",
      "id": "457291cd",
      "metadata": {
        "id": "457291cd"
      },
      "source": [
        "- wait 조건이 나열되어 있는 문서"
      ]
    },
    {
      "cell_type": "markdown",
      "id": "c6e4b91c",
      "metadata": {
        "id": "c6e4b91c"
      },
      "source": [
        "https://selenium-python.readthedocs.io/waits.html"
      ]
    }
  ],
  "metadata": {
    "kernelspec": {
      "display_name": "Python 3 (ipykernel)",
      "language": "python",
      "name": "python3"
    },
    "language_info": {
      "codemirror_mode": {
        "name": "ipython",
        "version": 3
      },
      "file_extension": ".py",
      "mimetype": "text/x-python",
      "name": "python",
      "nbconvert_exporter": "python",
      "pygments_lexer": "ipython3",
      "version": "3.10.9"
    },
    "colab": {
      "provenance": [],
      "include_colab_link": true
    }
  },
  "nbformat": 4,
  "nbformat_minor": 5
}