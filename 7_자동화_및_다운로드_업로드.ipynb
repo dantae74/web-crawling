{
  "cells": [
    {
      "cell_type": "markdown",
      "metadata": {
        "id": "view-in-github",
        "colab_type": "text"
      },
      "source": [
        "<a href=\"https://colab.research.google.com/github/dantae74/web-crawling/blob/main/7_%EC%9E%90%EB%8F%99%ED%99%94_%EB%B0%8F_%EB%8B%A4%EC%9A%B4%EB%A1%9C%EB%93%9C_%EC%97%85%EB%A1%9C%EB%93%9C.ipynb\" target=\"_parent\"><img src=\"https://colab.research.google.com/assets/colab-badge.svg\" alt=\"Open In Colab\"/></a>"
      ]
    },
    {
      "cell_type": "markdown",
      "id": "7a80b617",
      "metadata": {
        "id": "7a80b617"
      },
      "source": [
        "# 자동화 및 다운로드/업로드"
      ]
    },
    {
      "cell_type": "markdown",
      "id": "778538d6",
      "metadata": {
        "id": "778538d6"
      },
      "source": [
        "---"
      ]
    },
    {
      "cell_type": "code",
      "source": [
        "# Install selenium\n",
        "!pip install selenium"
      ],
      "metadata": {
        "id": "_9xeIYx3fjbg"
      },
      "id": "_9xeIYx3fjbg",
      "execution_count": null,
      "outputs": []
    },
    {
      "cell_type": "code",
      "execution_count": null,
      "id": "24313043",
      "metadata": {
        "id": "24313043"
      },
      "outputs": [],
      "source": [
        "\n",
        "from selenium import webdriver\n",
        "from selenium.webdriver.common.by import By\n",
        "from selenium.webdriver.support.ui import WebDriverWait\n",
        "from selenium.webdriver.support import expected_conditions as EC\n",
        "\n",
        "import requests\n",
        "import os\n",
        "import shutil\n",
        "import datetime\n",
        "import pandas as pd"
      ]
    },
    {
      "cell_type": "markdown",
      "id": "5d5ab68b",
      "metadata": {
        "id": "5d5ab68b"
      },
      "source": [
        "## os 모듈 연습하기"
      ]
    },
    {
      "cell_type": "code",
      "execution_count": null,
      "id": "b6104bc1",
      "metadata": {
        "id": "b6104bc1"
      },
      "outputs": [],
      "source": [
        "# 현재 작업 디렉토리 가져오기\n",
        "cwd = os.getcwd()\n",
        "print(f'현재 작업 디렉토리: {cwd}')\n"
      ]
    },
    {
      "cell_type": "code",
      "execution_count": null,
      "id": "16b5f7d0",
      "metadata": {
        "id": "16b5f7d0"
      },
      "outputs": [],
      "source": [
        "# 현재 디렉토리에 있는 모든 파일과 디렉토리를 나열하기\n",
        "print('현재 디렉토리의 파일 및 디렉토리:')\n",
        "print(os.listdir(cwd))\n"
      ]
    },
    {
      "cell_type": "code",
      "execution_count": null,
      "id": "8747621b",
      "metadata": {
        "id": "8747621b"
      },
      "outputs": [],
      "source": [
        "\n",
        "# 새 디렉토리 생성하기\n",
        "os.mkdir('new_directory')\n",
        "print('새 디렉토리 생성 후:')\n",
        "print(os.listdir(cwd))\n"
      ]
    },
    {
      "cell_type": "code",
      "execution_count": null,
      "id": "cef39e1e",
      "metadata": {
        "id": "cef39e1e"
      },
      "outputs": [],
      "source": [
        "\n",
        "# 디렉토리 이름 변경하기\n",
        "os.rename('new_directory', 'renamed_directory')\n",
        "print('디렉토리 이름 변경 후:')\n",
        "print(os.listdir(cwd))\n"
      ]
    },
    {
      "cell_type": "code",
      "execution_count": null,
      "id": "b56c22b7",
      "metadata": {
        "id": "b56c22b7"
      },
      "outputs": [],
      "source": [
        "\n",
        "# 디렉토리 제거하기\n",
        "os.rmdir('renamed_directory')\n",
        "print('디렉토리 제거 후:')\n",
        "print(os.listdir(cwd))\n"
      ]
    },
    {
      "cell_type": "markdown",
      "id": "44249e71",
      "metadata": {
        "id": "44249e71"
      },
      "source": [
        "## shutil 모듈 연습하기"
      ]
    },
    {
      "cell_type": "code",
      "execution_count": null,
      "id": "7b3f5c76",
      "metadata": {
        "id": "7b3f5c76"
      },
      "outputs": [],
      "source": [
        "\n",
        "# 현재 작업 디렉토리를 확인하고, 그곳에 새로운 디렉토리와 파일을 생성합니다.\n",
        "cwd = os.getcwd()\n",
        "os.mkdir(os.path.join(cwd, 'dir1'))\n",
        "with open(os.path.join(cwd, 'dir1', 'file1.txt'), 'w') as file:\n",
        "    file.write('Hello, World!')\n"
      ]
    },
    {
      "cell_type": "code",
      "execution_count": null,
      "id": "eab6e848",
      "metadata": {
        "id": "eab6e848"
      },
      "outputs": [],
      "source": [
        "\n",
        "# 'dir1' 디렉토리를 'dir2'로 복사합니다.\n",
        "shutil.copytree(os.path.join(cwd, 'dir1'), os.path.join(cwd, 'dir2'))\n",
        "print('디렉토리 복사 후 파일 목록:')\n",
        "print(os.listdir(cwd))\n"
      ]
    },
    {
      "cell_type": "code",
      "execution_count": null,
      "id": "632d9f70",
      "metadata": {
        "id": "632d9f70"
      },
      "outputs": [],
      "source": [
        "\n",
        "# 'dir2' 내의 'file1.txt'를 'file2.txt'로 복사합니다.\n",
        "shutil.copy(os.path.join(cwd, 'dir2', 'file1.txt'), os.path.join(cwd, 'dir2', 'file2.txt'))\n",
        "print('파일 복사 후 파일 목록:')\n",
        "print(os.listdir(os.path.join(cwd, 'dir2')))\n"
      ]
    },
    {
      "cell_type": "code",
      "execution_count": null,
      "id": "043393a4",
      "metadata": {
        "id": "043393a4"
      },
      "outputs": [],
      "source": [
        "\n",
        "# 'dir1' 디렉토리를 'dir3'로 이동(이름 변경)합니다.\n",
        "shutil.move(os.path.join(cwd, 'dir1'), os.path.join(cwd, 'dir3'))\n",
        "print('디렉토리 이동 후 파일 목록:')\n",
        "print(os.listdir(cwd))\n"
      ]
    },
    {
      "cell_type": "code",
      "execution_count": null,
      "id": "6744b527",
      "metadata": {
        "id": "6744b527"
      },
      "outputs": [],
      "source": [
        "\n",
        "# 'dir2'와 'dir3' 디렉토리를 제거합니다.\n",
        "# 이 때, 디렉토리 내부에 파일이 있는 경우에도 제거가 가능합니다.\n",
        "shutil.rmtree(os.path.join(cwd, 'dir2'))\n",
        "shutil.rmtree(os.path.join(cwd, 'dir3'))\n",
        "print('디렉토리 제거 후 파일 목록:')\n",
        "print(os.listdir(cwd))"
      ]
    },
    {
      "cell_type": "markdown",
      "id": "16911dd8",
      "metadata": {
        "id": "16911dd8"
      },
      "source": [
        "## 다운로드 자동화"
      ]
    },
    {
      "cell_type": "code",
      "source": [
        "%%shell\n",
        "# Ubuntu no longer distributes chromium-browser outside of snap\n",
        "#\n",
        "# Proposed solution: https://askubuntu.com/questions/1204571/how-to-install-chromium-without-snap\n",
        "\n",
        "# Add debian buster\n",
        "cat > /etc/apt/sources.list.d/debian.list <<'EOF'\n",
        "deb [arch=amd64 signed-by=/usr/share/keyrings/debian-buster.gpg] http://deb.debian.org/debian buster main\n",
        "deb [arch=amd64 signed-by=/usr/share/keyrings/debian-buster-updates.gpg] http://deb.debian.org/debian buster-updates main\n",
        "deb [arch=amd64 signed-by=/usr/share/keyrings/debian-security-buster.gpg] http://deb.debian.org/debian-security buster/updates main\n",
        "EOF\n",
        "\n",
        "# Add keys\n",
        "apt-key adv --keyserver keyserver.ubuntu.com --recv-keys DCC9EFBF77E11517\n",
        "apt-key adv --keyserver keyserver.ubuntu.com --recv-keys 648ACFD622F3D138\n",
        "apt-key adv --keyserver keyserver.ubuntu.com --recv-keys 112695A0E562B32A\n",
        "\n",
        "apt-key export 77E11517 | gpg --dearmour -o /usr/share/keyrings/debian-buster.gpg\n",
        "apt-key export 22F3D138 | gpg --dearmour -o /usr/share/keyrings/debian-buster-updates.gpg\n",
        "apt-key export E562B32A | gpg --dearmour -o /usr/share/keyrings/debian-security-buster.gpg\n",
        "\n",
        "# Prefer debian repo for chromium* packages only\n",
        "# Note the double-blank lines between entries\n",
        "cat > /etc/apt/preferences.d/chromium.pref << 'EOF'\n",
        "Package: *\n",
        "Pin: release a=eoan\n",
        "Pin-Priority: 500\n",
        "\n",
        "\n",
        "Package: *\n",
        "Pin: origin \"deb.debian.org\"\n",
        "Pin-Priority: 300\n",
        "\n",
        "\n",
        "Package: chromium*\n",
        "Pin: origin \"deb.debian.org\"\n",
        "Pin-Priority: 700\n",
        "EOF\n",
        "\n",
        "# Install chromium and chromium-driver\n",
        "apt-get update\n",
        "apt-get install chromium chromium-driver\n",
        "\n",
        "# Install selenium\n",
        "pip install selenium"
      ],
      "metadata": {
        "id": "O7Y96GqDtDmO"
      },
      "id": "O7Y96GqDtDmO",
      "execution_count": null,
      "outputs": []
    },
    {
      "cell_type": "code",
      "source": [
        "# -*- coding: UTF-8 -*-\n",
        "import time\n",
        "from selenium import webdriver\n",
        "from selenium.webdriver.common.by import By"
      ],
      "metadata": {
        "id": "J9gugE9ZtIBO"
      },
      "id": "J9gugE9ZtIBO",
      "execution_count": null,
      "outputs": []
    },
    {
      "cell_type": "code",
      "source": [],
      "metadata": {
        "id": "Z6FfSWwftMlt"
      },
      "id": "Z6FfSWwftMlt",
      "execution_count": null,
      "outputs": []
    },
    {
      "cell_type": "markdown",
      "id": "da099048",
      "metadata": {
        "id": "da099048"
      },
      "source": [
        "- 네이버 뉴스 기사 크롤링에서 이미지 다운로드 경로 크롤링 추가"
      ]
    },
    {
      "cell_type": "code",
      "execution_count": null,
      "id": "d2e60b2f",
      "metadata": {
        "id": "d2e60b2f"
      },
      "outputs": [],
      "source": [
        "def get_news_info(driver):\n",
        "    result = []\n",
        "    # 뉴스 기사들을 모아 놓은 요소가 로딩될때 까지 대기\n",
        "    articles_box = WebDriverWait(driver, 10).until(EC.presence_of_element_located((By.CSS_SELECTOR, '#main_pack > section > div > div.group_news > ul')))\n",
        "    # 뉴스 기사 리스트 찾기\n",
        "    article_list = articles_box.find_elements(By.CSS_SELECTOR,'li.bx')\n",
        "    for article in article_list:\n",
        "        news_info = {}\n",
        "        # 뉴스 제목 가져오기\n",
        "        title = article.find_element(By.CSS_SELECTOR,'a.news_tit').text\n",
        "        news_info['제목'] = title\n",
        "        # 뉴스 내용 가져오기\n",
        "        dsc = article.find_element(By.CSS_SELECTOR, \"div.dsc_wrap > a\").text\n",
        "        news_info['내용'] = dsc\n",
        "        # 신문사 가져오기\n",
        "        press = article.find_element(By.CSS_SELECTOR, \"a.press\").text\n",
        "        news_info['언론사'] = press\n",
        "        # 뉴스 이미지 경로 가져오기\n",
        "        try:\n",
        "            img = article.find_element(By.CSS_SELECTOR,'a.dsc_thumb > img')\n",
        "            # href 속성 가져오기\n",
        "            img_src = img.get_attribute('src')\n",
        "        except:\n",
        "            img_src = \"\"\n",
        "        news_info['이미지 경로'] = img_src\n",
        "\n",
        "        result.append(news_info)\n",
        "    return result\n",
        "\n",
        "def get_page_info(driver):\n",
        "    result = {}\n",
        "    # 페이지 이동마다 사용하기 때문에 Wait 사용\n",
        "    page_wrap = WebDriverWait(driver, 10).until(EC.presence_of_element_located((By.CSS_SELECTOR , 'div.sc_page')))\n",
        "    # 현재 페이지 찾기\n",
        "    now_page = page_wrap.find_element(By.CSS_SELECTOR, 'a[aria-pressed=\"true\"]').text\n",
        "    result['현재 페이지'] = now_page\n",
        "    # 다음 페이지 이동 불가능 여부 가져오기\n",
        "    next_page = page_wrap.find_element(By.CSS_SELECTOR, 'a.btn_next')\n",
        "    result['다음 페이지'] = next_page\n",
        "    aria_disabled = next_page.get_attribute('aria-disabled')\n",
        "    result['다음 페이지 이동 불가'] = aria_disabled\n",
        "\n",
        "\n",
        "    return result"
      ]
    },
    {
      "cell_type": "code",
      "source": [
        "options = webdriver.ChromeOptions()\n",
        "options.add_argument('--headless')        # Head-less 설정\n",
        "options.add_argument('--no-sandbox')\n",
        "options.add_argument('--disable-dev-shm-usage')\n",
        "driver = webdriver.Chrome(options=options)"
      ],
      "metadata": {
        "id": "WDtfAyVYiY4J"
      },
      "id": "WDtfAyVYiY4J",
      "execution_count": null,
      "outputs": []
    },
    {
      "cell_type": "code",
      "execution_count": null,
      "id": "814d4e1c",
      "metadata": {
        "id": "814d4e1c"
      },
      "outputs": [],
      "source": [
        "# 드라이버 로드\n",
        "# driver = webdriver.Chrome()\n",
        "\n",
        "# 페이지 접근\n",
        "driver.get('https://search.naver.com/search.naver?where=news&sm=tab_jum&query=KT WIZ') # 크롤링 예제 사이트\n",
        "\n",
        "df = []\n",
        "\n",
        "# 최대 10페이지까지 크롤링\n",
        "for i in range(0,10):\n",
        "    news_info = get_news_info(driver)\n",
        "    page_info = get_page_info(driver)\n",
        "    print(page_info['현재 페이지'])\n",
        "    for news in news_info:\n",
        "        df.append(news)\n",
        "    # 다음 페이지로 이동\n",
        "    if page_info['다음 페이지 이동 불가'] == 'true':\n",
        "        break\n",
        "    else:\n",
        "        page_info['다음 페이지'].click()\n",
        "\n",
        "driver.quit()"
      ]
    },
    {
      "cell_type": "markdown",
      "id": "438f4848",
      "metadata": {
        "id": "438f4848"
      },
      "source": [
        "- 데이터 프레임으로 만들기"
      ]
    },
    {
      "cell_type": "code",
      "execution_count": null,
      "id": "91dddd50",
      "metadata": {
        "id": "91dddd50"
      },
      "outputs": [],
      "source": [
        "df = pd.DataFrame(df)\n",
        "df"
      ]
    },
    {
      "cell_type": "markdown",
      "id": "a4c5bdf4",
      "metadata": {
        "id": "a4c5bdf4"
      },
      "source": [
        "- 오늘 날짜로 폴더 만들기"
      ]
    },
    {
      "cell_type": "code",
      "execution_count": null,
      "id": "4cefefac",
      "metadata": {
        "id": "4cefefac"
      },
      "outputs": [],
      "source": [
        "# 오늘 날짜가 없다면 폴더 생성\n",
        "# if not exists same name folder, create folder\n",
        "date= datetime.datetime.now().strftime('%Y%m%d%H')\n",
        "if not os.path.exists(date):\n",
        "    os.mkdir(date)"
      ]
    },
    {
      "cell_type": "code",
      "execution_count": null,
      "id": "5ff554aa",
      "metadata": {
        "id": "5ff554aa"
      },
      "outputs": [],
      "source": [
        "for idx, src in zip(df.index,df['이미지 경로']):\n",
        "    if src != \"\" and src.startswith('http'):\n",
        "        response = requests.get(src)\n",
        "        with open(f\"{date}/{idx}.png\", \"wb\") as file:\n",
        "            file.write(response.content)\n",
        ""
      ]
    },
    {
      "cell_type": "code",
      "source": [
        "cwd = os.getcwd()\n",
        "print(f'현재 작업 디렉토리: {cwd}')\n",
        "print('현재 디렉토리의 파일 및 디렉토리:')\n",
        "print(os.listdir(cwd))\n",
        "print(os.listdir(os.path.join(cwd, '2023070307')))\n"
      ],
      "metadata": {
        "id": "rh6Hwvn1u15J"
      },
      "id": "rh6Hwvn1u15J",
      "execution_count": null,
      "outputs": []
    },
    {
      "cell_type": "markdown",
      "id": "2b778248",
      "metadata": {
        "id": "2b778248"
      },
      "source": [
        "## 업로드 자동화"
      ]
    },
    {
      "cell_type": "markdown",
      "id": "6ca21417",
      "metadata": {
        "id": "6ca21417"
      },
      "source": [
        "- 다운로드/업로드 연습 사이트에서 업로드 실습 진행"
      ]
    },
    {
      "cell_type": "code",
      "execution_count": null,
      "id": "79a7fdf5",
      "metadata": {
        "id": "79a7fdf5"
      },
      "outputs": [],
      "source": [
        "from selenium import webdriver\n",
        "\n",
        "# driver = webdriver.Chrome()\n",
        "\n",
        "options = webdriver.ChromeOptions()\n",
        "options.add_argument('--headless')        # Head-less 설정\n",
        "options.add_argument('--no-sandbox')\n",
        "options.add_argument('--disable-dev-shm-usage')\n",
        "driver = webdriver.Chrome(options=options)\n",
        "\n",
        "\n",
        "driver.get(\"https://demoqa.com/upload-download\")"
      ]
    },
    {
      "cell_type": "code",
      "execution_count": null,
      "id": "298a144b",
      "metadata": {
        "id": "298a144b"
      },
      "outputs": [],
      "source": [
        "upload = driver.find_element(By.CSS_SELECTOR, \"#uploadFile\")\n",
        "file_path = os.getcwd() + f\"/{date}/0.png\"\n",
        "\n",
        "# send_keys() 메소드를 이용해 파일 업로드\n",
        "upload.send_keys(file_path)\n",
        "\n",
        "# 업로드 버튼 클릭\n"
      ]
    },
    {
      "cell_type": "code",
      "execution_count": null,
      "id": "b56dcc20",
      "metadata": {
        "id": "b56dcc20"
      },
      "outputs": [],
      "source": []
    }
  ],
  "metadata": {
    "kernelspec": {
      "display_name": "Python 3 (ipykernel)",
      "language": "python",
      "name": "python3"
    },
    "language_info": {
      "codemirror_mode": {
        "name": "ipython",
        "version": 3
      },
      "file_extension": ".py",
      "mimetype": "text/x-python",
      "name": "python",
      "nbconvert_exporter": "python",
      "pygments_lexer": "ipython3",
      "version": "3.10.9"
    },
    "colab": {
      "provenance": [],
      "include_colab_link": true
    }
  },
  "nbformat": 4,
  "nbformat_minor": 5
}